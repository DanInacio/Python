{
 "cells": [
  {
   "cell_type": "markdown",
   "metadata": {},
   "source": [
    "# Appendix: Statistics (Part 2)"
   ]
  },
  {
   "cell_type": "markdown",
   "metadata": {},
   "source": [
    "## Common Probability Distributions and Confidence Intervals"
   ]
  },
  {
   "cell_type": "markdown",
   "metadata": {},
   "source": [
    "### Generating Random Numbers with Numpy"
   ]
  },
  {
   "cell_type": "code",
   "execution_count": 1,
   "metadata": {},
   "outputs": [],
   "source": [
    "import numpy as np"
   ]
  },
  {
   "cell_type": "code",
   "execution_count": 2,
   "metadata": {},
   "outputs": [
    {
     "data": {
      "text/plain": [
       "array([ 2,  9, 10,  2,  7,  2, 10,  7,  9,  4])"
      ]
     },
     "execution_count": 2,
     "metadata": {},
     "output_type": "execute_result"
    }
   ],
   "source": [
    "np.random.randint(low = 1, high = 11, size = 10)"
   ]
  },
  {
   "cell_type": "code",
   "execution_count": 3,
   "metadata": {},
   "outputs": [
    {
     "data": {
      "text/plain": [
       "array([0.82904124, 0.01657809, 0.71792978, 0.13151249, 0.17614308,\n",
       "       0.45494849, 0.64976378, 0.65459582, 0.24669908, 0.51459364])"
      ]
     },
     "execution_count": 3,
     "metadata": {},
     "output_type": "execute_result"
    }
   ],
   "source": [
    "np.random.random(size = 10)"
   ]
  },
  {
   "cell_type": "code",
   "execution_count": 7,
   "metadata": {},
   "outputs": [
    {
     "data": {
      "text/plain": [
       "array([6.12212143, 9.42862169, 6.25983892, 4.52277866, 3.00028065,\n",
       "       2.49309642, 5.77579549, 6.01536517, 4.93497256, 4.78876621])"
      ]
     },
     "execution_count": 7,
     "metadata": {},
     "output_type": "execute_result"
    }
   ],
   "source": [
    "np.random.uniform(low = 1, high = 10, size = 10)"
   ]
  },
  {
   "cell_type": "code",
   "execution_count": 5,
   "metadata": {},
   "outputs": [
    {
     "data": {
      "text/plain": [
       "array([-1.85611828, -0.89459943,  0.27599558,  0.77182587, -0.27706688,\n",
       "       -0.63265981, -0.02593476,  0.79295833,  1.79420779,  1.46176307])"
      ]
     },
     "execution_count": 5,
     "metadata": {},
     "output_type": "execute_result"
    }
   ],
   "source": [
    "np.random.normal(size = 10)"
   ]
  },
  {
   "cell_type": "code",
   "execution_count": 6,
   "metadata": {},
   "outputs": [
    {
     "data": {
      "text/plain": [
       "array([ 84.81242951,  98.76045924,  79.969427  ,  96.23286825,\n",
       "       104.59563718,  88.82504621,  91.79435122, 110.5196845 ,\n",
       "        97.43263529, 107.00082796])"
      ]
     },
     "execution_count": 6,
     "metadata": {},
     "output_type": "execute_result"
    }
   ],
   "source": [
    "np.random.normal(loc = 100, scale = 10, size = 10)"
   ]
  },
  {
   "cell_type": "code",
   "execution_count": null,
   "metadata": {},
   "outputs": [],
   "source": []
  },
  {
   "cell_type": "markdown",
   "metadata": {},
   "source": [
    "### Reproducibility with np.random.seed()"
   ]
  },
  {
   "cell_type": "code",
   "execution_count": 8,
   "metadata": {},
   "outputs": [],
   "source": [
    "import numpy as np"
   ]
  },
  {
   "cell_type": "code",
   "execution_count": 9,
   "metadata": {},
   "outputs": [
    {
     "data": {
      "text/plain": [
       "array([10,  8,  6,  6,  9, 10,  1, 10,  7,  8])"
      ]
     },
     "execution_count": 9,
     "metadata": {},
     "output_type": "execute_result"
    }
   ],
   "source": [
    "np.random.randint(low = 1, high = 11, size = 10)"
   ]
  },
  {
   "cell_type": "code",
   "execution_count": 10,
   "metadata": {},
   "outputs": [
    {
     "data": {
      "text/plain": [
       "array([ 9,  3, 10,  2,  3,  8,  8,  4,  5,  1])"
      ]
     },
     "execution_count": 10,
     "metadata": {},
     "output_type": "execute_result"
    }
   ],
   "source": [
    "np.random.randint(low = 1, high = 11, size = 10)"
   ]
  },
  {
   "cell_type": "code",
   "execution_count": 11,
   "metadata": {},
   "outputs": [
    {
     "data": {
      "text/plain": [
       "array([ 3, 10,  6,  4,  2,  6,  5,  2,  3,  2])"
      ]
     },
     "execution_count": 11,
     "metadata": {},
     "output_type": "execute_result"
    }
   ],
   "source": [
    "np.random.randint(low = 1, high = 11, size = 10)"
   ]
  },
  {
   "cell_type": "code",
   "execution_count": 12,
   "metadata": {},
   "outputs": [
    {
     "data": {
      "text/plain": [
       "array([ 3,  3,  7,  2,  4, 10,  7,  2,  1,  2])"
      ]
     },
     "execution_count": 12,
     "metadata": {},
     "output_type": "execute_result"
    }
   ],
   "source": [
    "np.random.seed(123)\n",
    "np.random.randint(low = 1, high = 11, size = 10)"
   ]
  },
  {
   "cell_type": "code",
   "execution_count": 13,
   "metadata": {},
   "outputs": [
    {
     "data": {
      "text/plain": [
       "array([ 3,  3,  7,  2,  4, 10,  7,  2,  1,  2])"
      ]
     },
     "execution_count": 13,
     "metadata": {},
     "output_type": "execute_result"
    }
   ],
   "source": [
    "np.random.seed(123)\n",
    "np.random.randint(low = 1, high = 11, size = 10)"
   ]
  },
  {
   "cell_type": "code",
   "execution_count": 14,
   "metadata": {},
   "outputs": [
    {
     "data": {
      "text/plain": [
       "array([ 4,  7,  7,  1, 10,  9,  5,  8,  1,  1])"
      ]
     },
     "execution_count": 14,
     "metadata": {},
     "output_type": "execute_result"
    }
   ],
   "source": [
    "np.random.seed(5)\n",
    "np.random.randint(low = 1, high = 11, size = 10)"
   ]
  },
  {
   "cell_type": "code",
   "execution_count": 15,
   "metadata": {},
   "outputs": [
    {
     "data": {
      "text/plain": [
       "array([ 4,  7,  7,  1, 10,  9,  5,  8,  1,  1])"
      ]
     },
     "execution_count": 15,
     "metadata": {},
     "output_type": "execute_result"
    }
   ],
   "source": [
    "np.random.seed(5)\n",
    "np.random.randint(low = 1, high = 11, size = 10)"
   ]
  },
  {
   "cell_type": "code",
   "execution_count": null,
   "metadata": {},
   "outputs": [],
   "source": []
  },
  {
   "cell_type": "markdown",
   "metadata": {},
   "source": [
    "### Discrete Uniform Distributions"
   ]
  },
  {
   "cell_type": "code",
   "execution_count": 16,
   "metadata": {},
   "outputs": [],
   "source": [
    "import numpy as np\n",
    "import matplotlib.pyplot as plt"
   ]
  },
  {
   "cell_type": "code",
   "execution_count": 17,
   "metadata": {},
   "outputs": [
    {
     "data": {
      "text/plain": [
       "array([5, 2, 6, 1, 4, 5, 6, 4, 2, 5])"
      ]
     },
     "execution_count": 17,
     "metadata": {},
     "output_type": "execute_result"
    }
   ],
   "source": [
    "np.random.randint(low = 1, high = 7, size = 10)"
   ]
  },
  {
   "cell_type": "code",
   "execution_count": 18,
   "metadata": {},
   "outputs": [
    {
     "data": {
      "text/plain": [
       "array([6, 3, 5, ..., 1, 1, 4])"
      ]
     },
     "execution_count": 18,
     "metadata": {},
     "output_type": "execute_result"
    }
   ],
   "source": [
    "np.random.seed(123)\n",
    "a = np.random.randint(low = 1, high = 7, size = 100000)\n",
    "a"
   ]
  },
  {
   "cell_type": "code",
   "execution_count": 19,
   "metadata": {},
   "outputs": [
    {
     "data": {
      "text/plain": [
       "3.49939"
      ]
     },
     "execution_count": 19,
     "metadata": {},
     "output_type": "execute_result"
    }
   ],
   "source": [
    "a.mean()"
   ]
  },
  {
   "cell_type": "code",
   "execution_count": 20,
   "metadata": {},
   "outputs": [
    {
     "data": {
      "text/plain": [
       "1.701352293882722"
      ]
     },
     "execution_count": 20,
     "metadata": {},
     "output_type": "execute_result"
    }
   ],
   "source": [
    "a.std()"
   ]
  },
  {
   "cell_type": "code",
   "execution_count": 21,
   "metadata": {},
   "outputs": [
    {
     "data": {
      "text/plain": [
       "16666.666666666668"
      ]
     },
     "execution_count": 21,
     "metadata": {},
     "output_type": "execute_result"
    }
   ],
   "source": [
    "100000/6"
   ]
  },
  {
   "cell_type": "code",
   "execution_count": 26,
   "metadata": {},
   "outputs": [
    {
     "data": {
      "image/png": "[encoded data removed]",
      "text/plain": [
       "<Figure size 864x576 with 1 Axes>"
      ]
     },
     "metadata": {
      "needs_background": "light"
     },
     "output_type": "display_data"
    }
   ],
   "source": [
    "plt.figure(figsize = (12, 8))\n",
    "plt.hist(a, bins = 6, ec = \"black\")\n",
    "plt.title(\"Discrete Uniform Distribution\", fontsize = 20)\n",
    "plt.ylabel(\"Absolute Frequency\", fontsize = 15)\n",
    "plt.show()"
   ]
  },
  {
   "cell_type": "code",
   "execution_count": 23,
   "metadata": {},
   "outputs": [
    {
     "data": {
      "image/png": "[encoded data removed]",
      "text/plain": [
       "<Figure size 864x576 with 1 Axes>"
      ]
     },
     "metadata": {
      "needs_background": "light"
     },
     "output_type": "display_data"
    }
   ],
   "source": [
    "plt.figure(figsize = (12, 8))\n",
    "plt.hist(a, bins = 6, weights = np.ones(len(a)) / len(a), ec = \"black\") # Equal weights\n",
    "plt.title(\"Discrete Uniform Distribution\", fontsize = 20)\n",
    "plt.ylabel(\"Relative Frequency\", fontsize = 15)\n",
    "plt.show()"
   ]
  },
  {
   "cell_type": "code",
   "execution_count": 27,
   "metadata": {},
   "outputs": [
    {
     "data": {
      "image/png": "[encoded data removed]",
      "text/plain": [
       "<Figure size 864x576 with 1 Axes>"
      ]
     },
     "metadata": {
      "needs_background": "light"
     },
     "output_type": "display_data"
    }
   ],
   "source": [
    "plt.figure(figsize = (12, 8))\n",
    "plt.hist(a, bins = 6, density = True, ec = \"black\") # density=True makes the density area=1\n",
    "plt.title(\"Discrete Uniform Distribution\", fontsize = 20)\n",
    "plt.ylabel(\"Probability Density\", fontsize = 15)\n",
    "plt.show()"
   ]
  },
  {
   "cell_type": "code",
   "execution_count": 25,
   "metadata": {},
   "outputs": [
    {
     "data": {
      "image/png": "[encoded data removed]",
      "text/plain": [
       "<Figure size 864x576 with 1 Axes>"
      ]
     },
     "metadata": {
      "needs_background": "light"
     },
     "output_type": "display_data"
    }
   ],
   "source": [
    "plt.figure(figsize = (12, 8))\n",
    "plt.hist(a, bins = 6, density = True, cumulative= True, ec = \"black\")\n",
    "plt.title(\"Discrete Uniform Distribution\", fontsize = 20)\n",
    "plt.ylabel(\"Cumulative Relative Frequency\", fontsize = 15)\n",
    "plt.show()"
   ]
  },
  {
   "cell_type": "code",
   "execution_count": null,
   "metadata": {},
   "outputs": [],
   "source": []
  },
  {
   "cell_type": "markdown",
   "metadata": {},
   "source": [
    "## Continuous Uniform Distributions"
   ]
  },
  {
   "cell_type": "code",
   "execution_count": 28,
   "metadata": {},
   "outputs": [],
   "source": [
    "import numpy as np\n",
    "import matplotlib.pyplot as plt"
   ]
  },
  {
   "cell_type": "code",
   "execution_count": 29,
   "metadata": {},
   "outputs": [],
   "source": [
    "np.random.seed(123)\n",
    "b = np.random.uniform(low = 0, high = 10, size = 10000000)"
   ]
  },
  {
   "cell_type": "code",
   "execution_count": 30,
   "metadata": {},
   "outputs": [
    {
     "data": {
      "text/plain": [
       "array([6.96469186, 2.86139335, 2.26851454, ..., 4.5177328 , 1.36892476,\n",
       "       4.44361037])"
      ]
     },
     "execution_count": 30,
     "metadata": {},
     "output_type": "execute_result"
    }
   ],
   "source": [
    "b"
   ]
  },
  {
   "cell_type": "code",
   "execution_count": 31,
   "metadata": {},
   "outputs": [
    {
     "data": {
      "text/plain": [
       "4.999750521964992"
      ]
     },
     "execution_count": 31,
     "metadata": {},
     "output_type": "execute_result"
    }
   ],
   "source": [
    "b.mean()"
   ]
  },
  {
   "cell_type": "code",
   "execution_count": 32,
   "metadata": {},
   "outputs": [
    {
     "data": {
      "text/plain": [
       "2.8861410883156915"
      ]
     },
     "execution_count": 32,
     "metadata": {},
     "output_type": "execute_result"
    }
   ],
   "source": [
    "b.std()"
   ]
  },
  {
   "cell_type": "code",
   "execution_count": 33,
   "metadata": {},
   "outputs": [
    {
     "data": {
      "image/png": "[encoded data removed]",
      "text/plain": [
       "<Figure size 864x576 with 1 Axes>"
      ]
     },
     "metadata": {
      "needs_background": "light"
     },
     "output_type": "display_data"
    }
   ],
   "source": [
    "plt.figure(figsize = (12, 8))\n",
    "plt.hist(b, bins = 1000, density = True)\n",
    "plt.title(\"Continuous Uniform Distribution\", fontsize = 20)\n",
    "plt.ylabel(\"pdf\", fontsize = 15)\n",
    "plt.show()"
   ]
  },
  {
   "cell_type": "code",
   "execution_count": 34,
   "metadata": {},
   "outputs": [
    {
     "data": {
      "image/png": "[encoded data removed]",
      "text/plain": [
       "<Figure size 864x576 with 1 Axes>"
      ]
     },
     "metadata": {
      "needs_background": "light"
     },
     "output_type": "display_data"
    }
   ],
   "source": [
    "plt.figure(figsize = (12, 8))\n",
    "plt.hist(b, bins = 1000, density= True, cumulative= True)\n",
    "plt.grid()\n",
    "plt.title(\"Continuous Uniform Distribution\", fontsize = 20)\n",
    "plt.ylabel(\"cdf\", fontsize = 15)\n",
    "plt.yticks(np.arange(0, 1.1, 0.1))\n",
    "plt.show()"
   ]
  },
  {
   "cell_type": "code",
   "execution_count": null,
   "metadata": {},
   "outputs": [],
   "source": []
  },
  {
   "cell_type": "markdown",
   "metadata": {},
   "source": [
    "### Creating a normally distributed Random Variable"
   ]
  },
  {
   "cell_type": "code",
   "execution_count": 35,
   "metadata": {},
   "outputs": [],
   "source": [
    "import numpy as np\n",
    "import matplotlib.pyplot as plt"
   ]
  },
  {
   "cell_type": "code",
   "execution_count": 36,
   "metadata": {},
   "outputs": [],
   "source": [
    "mu = 100\n",
    "sigma = 2\n",
    "size = 1000000"
   ]
  },
  {
   "cell_type": "code",
   "execution_count": 37,
   "metadata": {},
   "outputs": [],
   "source": [
    "np.random.seed(123)\n",
    "pop = np.random.normal(loc = mu, scale = sigma, size = size)"
   ]
  },
  {
   "cell_type": "code",
   "execution_count": 38,
   "metadata": {},
   "outputs": [
    {
     "data": {
      "text/plain": [
       "1000000"
      ]
     },
     "execution_count": 38,
     "metadata": {},
     "output_type": "execute_result"
    }
   ],
   "source": [
    "pop.size"
   ]
  },
  {
   "cell_type": "code",
   "execution_count": 39,
   "metadata": {},
   "outputs": [
    {
     "data": {
      "text/plain": [
       "100.00125900261469"
      ]
     },
     "execution_count": 39,
     "metadata": {},
     "output_type": "execute_result"
    }
   ],
   "source": [
    "pop.mean()"
   ]
  },
  {
   "cell_type": "code",
   "execution_count": 40,
   "metadata": {},
   "outputs": [
    {
     "data": {
      "text/plain": [
       "2.0005171072042"
      ]
     },
     "execution_count": 40,
     "metadata": {},
     "output_type": "execute_result"
    }
   ],
   "source": [
    "pop.std()"
   ]
  },
  {
   "cell_type": "code",
   "execution_count": 41,
   "metadata": {},
   "outputs": [
    {
     "data": {
      "image/png": "[encoded data removed]",
      "text/plain": [
       "<Figure size 1440x576 with 1 Axes>"
      ]
     },
     "metadata": {
      "needs_background": "light"
     },
     "output_type": "display_data"
    }
   ],
   "source": [
    "plt.figure(figsize = (20, 8))\n",
    "plt.hist(pop, bins = 1000)\n",
    "plt.title(\"Normal Distribution\", fontsize = 20)\n",
    "plt.xlabel(\"Screw Length\", fontsize = 15)\n",
    "plt.ylabel(\"Absolute Frequency\", fontsize = 15)\n",
    "plt.show()"
   ]
  },
  {
   "cell_type": "code",
   "execution_count": 42,
   "metadata": {},
   "outputs": [],
   "source": [
    "import scipy.stats as stats"
   ]
  },
  {
   "cell_type": "code",
   "execution_count": 43,
   "metadata": {},
   "outputs": [
    {
     "data": {
      "text/plain": [
       "0.0002286155024783446"
      ]
     },
     "execution_count": 43,
     "metadata": {},
     "output_type": "execute_result"
    }
   ],
   "source": [
    "stats.skew(pop)"
   ]
  },
  {
   "cell_type": "code",
   "execution_count": 44,
   "metadata": {},
   "outputs": [
    {
     "data": {
      "text/plain": [
       "-0.005837588254301362"
      ]
     },
     "execution_count": 44,
     "metadata": {},
     "output_type": "execute_result"
    }
   ],
   "source": [
    "stats.kurtosis(pop) # In a normal distribution, kurtosis=0"
   ]
  },
  {
   "cell_type": "code",
   "execution_count": 45,
   "metadata": {},
   "outputs": [
    {
     "data": {
      "text/plain": [
       "2.9941624117456986"
      ]
     },
     "execution_count": 45,
     "metadata": {},
     "output_type": "execute_result"
    }
   ],
   "source": [
    "stats.kurtosis(pop, fisher= False) # In a normal distribution, excess kurtosis=3"
   ]
  },
  {
   "cell_type": "code",
   "execution_count": 46,
   "metadata": {},
   "outputs": [
    {
     "data": {
      "text/plain": [
       "DescribeResult(nobs=1000000, minmax=(90.78574017842989, 109.25515988525538), mean=100.00125900261469, variance=4.00207269828936, skewness=0.0002286155024783446, kurtosis=-0.005837588254301362)"
      ]
     },
     "execution_count": 46,
     "metadata": {},
     "output_type": "execute_result"
    }
   ],
   "source": [
    "stats.describe(pop)"
   ]
  },
  {
   "cell_type": "code",
   "execution_count": null,
   "metadata": {},
   "outputs": [],
   "source": []
  },
  {
   "cell_type": "markdown",
   "metadata": {},
   "source": [
    "### Normal Distribution - Probability Density Function (pdf) with scipy.stats"
   ]
  },
  {
   "cell_type": "code",
   "execution_count": 47,
   "metadata": {},
   "outputs": [],
   "source": [
    "import numpy as np\n",
    "import scipy.stats as stats\n",
    "import matplotlib.pyplot as plt"
   ]
  },
  {
   "cell_type": "code",
   "execution_count": 48,
   "metadata": {},
   "outputs": [],
   "source": [
    "mu = 100\n",
    "sigma = 2"
   ]
  },
  {
   "cell_type": "code",
   "execution_count": 49,
   "metadata": {},
   "outputs": [
    {
     "data": {
      "text/plain": [
       "array([ 90.        ,  90.02002002,  90.04004004,  90.06006006,\n",
       "        90.08008008,  90.1001001 ,  90.12012012,  90.14014014,\n",
       "        90.16016016,  90.18018018,  90.2002002 ,  90.22022022,\n",
       "        90.24024024,  90.26026026,  90.28028028,  90.3003003 ,\n",
       "        90.32032032,  90.34034034,  90.36036036,  90.38038038,\n",
       "        90.4004004 ,  90.42042042,  90.44044044,  90.46046046,\n",
       "        90.48048048,  90.5005005 ,  90.52052052,  90.54054054,\n",
       "        90.56056056,  90.58058058,  90.6006006 ,  90.62062062,\n",
       "        90.64064064,  90.66066066,  90.68068068,  90.7007007 ,\n",
       "        90.72072072,  90.74074074,  90.76076076,  90.78078078,\n",
       "        90.8008008 ,  90.82082082,  90.84084084,  90.86086086,\n",
       "        90.88088088,  90.9009009 ,  90.92092092,  90.94094094,\n",
       "        90.96096096,  90.98098098,  91.001001  ,  91.02102102,\n",
       "        91.04104104,  91.06106106,  91.08108108,  91.1011011 ,\n",
       "        91.12112112,  91.14114114,  91.16116116,  91.18118118,\n",
       "        91.2012012 ,  91.22122122,  91.24124124,  91.26126126,\n",
       "        91.28128128,  91.3013013 ,  91.32132132,  91.34134134,\n",
       "        91.36136136,  91.38138138,  91.4014014 ,  91.42142142,\n",
       "        91.44144144,  91.46146146,  91.48148148,  91.5015015 ,\n",
       "        91.52152152,  91.54154154,  91.56156156,  91.58158158,\n",
       "        91.6016016 ,  91.62162162,  91.64164164,  91.66166166,\n",
       "        91.68168168,  91.7017017 ,  91.72172172,  91.74174174,\n",
       "        91.76176176,  91.78178178,  91.8018018 ,  91.82182182,\n",
       "        91.84184184,  91.86186186,  91.88188188,  91.9019019 ,\n",
       "        91.92192192,  91.94194194,  91.96196196,  91.98198198,\n",
       "        92.002002  ,  92.02202202,  92.04204204,  92.06206206,\n",
       "        92.08208208,  92.1021021 ,  92.12212212,  92.14214214,\n",
       "        92.16216216,  92.18218218,  92.2022022 ,  92.22222222,\n",
       "        92.24224224,  92.26226226,  92.28228228,  92.3023023 ,\n",
       "        92.32232232,  92.34234234,  92.36236236,  92.38238238,\n",
       "        92.4024024 ,  92.42242242,  92.44244244,  92.46246246,\n",
       "        92.48248248,  92.5025025 ,  92.52252252,  92.54254254,\n",
       "        92.56256256,  92.58258258,  92.6026026 ,  92.62262262,\n",
       "        92.64264264,  92.66266266,  92.68268268,  92.7027027 ,\n",
       "        92.72272272,  92.74274274,  92.76276276,  92.78278278,\n",
       "        92.8028028 ,  92.82282282,  92.84284284,  92.86286286,\n",
       "        92.88288288,  92.9029029 ,  92.92292292,  92.94294294,\n",
       "        92.96296296,  92.98298298,  93.003003  ,  93.02302302,\n",
       "        93.04304304,  93.06306306,  93.08308308,  93.1031031 ,\n",
       "        93.12312312,  93.14314314,  93.16316316,  93.18318318,\n",
       "        93.2032032 ,  93.22322322,  93.24324324,  93.26326326,\n",
       "        93.28328328,  93.3033033 ,  93.32332332,  93.34334334,\n",
       "        93.36336336,  93.38338338,  93.4034034 ,  93.42342342,\n",
       "        93.44344344,  93.46346346,  93.48348348,  93.5035035 ,\n",
       "        93.52352352,  93.54354354,  93.56356356,  93.58358358,\n",
       "        93.6036036 ,  93.62362362,  93.64364364,  93.66366366,\n",
       "        93.68368368,  93.7037037 ,  93.72372372,  93.74374374,\n",
       "        93.76376376,  93.78378378,  93.8038038 ,  93.82382382,\n",
       "        93.84384384,  93.86386386,  93.88388388,  93.9039039 ,\n",
       "        93.92392392,  93.94394394,  93.96396396,  93.98398398,\n",
       "        94.004004  ,  94.02402402,  94.04404404,  94.06406406,\n",
       "        94.08408408,  94.1041041 ,  94.12412412,  94.14414414,\n",
       "        94.16416416,  94.18418418,  94.2042042 ,  94.22422422,\n",
       "        94.24424424,  94.26426426,  94.28428428,  94.3043043 ,\n",
       "        94.32432432,  94.34434434,  94.36436436,  94.38438438,\n",
       "        94.4044044 ,  94.42442442,  94.44444444,  94.46446446,\n",
       "        94.48448448,  94.5045045 ,  94.52452452,  94.54454454,\n",
       "        94.56456456,  94.58458458,  94.6046046 ,  94.62462462,\n",
       "        94.64464464,  94.66466466,  94.68468468,  94.7047047 ,\n",
       "        94.72472472,  94.74474474,  94.76476476,  94.78478478,\n",
       "        94.8048048 ,  94.82482482,  94.84484484,  94.86486486,\n",
       "        94.88488488,  94.9049049 ,  94.92492492,  94.94494494,\n",
       "        94.96496496,  94.98498498,  95.00500501,  95.02502503,\n",
       "        95.04504505,  95.06506507,  95.08508509,  95.10510511,\n",
       "        95.12512513,  95.14514515,  95.16516517,  95.18518519,\n",
       "        95.20520521,  95.22522523,  95.24524525,  95.26526527,\n",
       "        95.28528529,  95.30530531,  95.32532533,  95.34534535,\n",
       "        95.36536537,  95.38538539,  95.40540541,  95.42542543,\n",
       "        95.44544545,  95.46546547,  95.48548549,  95.50550551,\n",
       "        95.52552553,  95.54554555,  95.56556557,  95.58558559,\n",
       "        95.60560561,  95.62562563,  95.64564565,  95.66566567,\n",
       "        95.68568569,  95.70570571,  95.72572573,  95.74574575,\n",
       "        95.76576577,  95.78578579,  95.80580581,  95.82582583,\n",
       "        95.84584585,  95.86586587,  95.88588589,  95.90590591,\n",
       "        95.92592593,  95.94594595,  95.96596597,  95.98598599,\n",
       "        96.00600601,  96.02602603,  96.04604605,  96.06606607,\n",
       "        96.08608609,  96.10610611,  96.12612613,  96.14614615,\n",
       "        96.16616617,  96.18618619,  96.20620621,  96.22622623,\n",
       "        96.24624625,  96.26626627,  96.28628629,  96.30630631,\n",
       "        96.32632633,  96.34634635,  96.36636637,  96.38638639,\n",
       "        96.40640641,  96.42642643,  96.44644645,  96.46646647,\n",
       "        96.48648649,  96.50650651,  96.52652653,  96.54654655,\n",
       "        96.56656657,  96.58658659,  96.60660661,  96.62662663,\n",
       "        96.64664665,  96.66666667,  96.68668669,  96.70670671,\n",
       "        96.72672673,  96.74674675,  96.76676677,  96.78678679,\n",
       "        96.80680681,  96.82682683,  96.84684685,  96.86686687,\n",
       "        96.88688689,  96.90690691,  96.92692693,  96.94694695,\n",
       "        96.96696697,  96.98698699,  97.00700701,  97.02702703,\n",
       "        97.04704705,  97.06706707,  97.08708709,  97.10710711,\n",
       "        97.12712713,  97.14714715,  97.16716717,  97.18718719,\n",
       "        97.20720721,  97.22722723,  97.24724725,  97.26726727,\n",
       "        97.28728729,  97.30730731,  97.32732733,  97.34734735,\n",
       "        97.36736737,  97.38738739,  97.40740741,  97.42742743,\n",
       "        97.44744745,  97.46746747,  97.48748749,  97.50750751,\n",
       "        97.52752753,  97.54754755,  97.56756757,  97.58758759,\n",
       "        97.60760761,  97.62762763,  97.64764765,  97.66766767,\n",
       "        97.68768769,  97.70770771,  97.72772773,  97.74774775,\n",
       "        97.76776777,  97.78778779,  97.80780781,  97.82782783,\n",
       "        97.84784785,  97.86786787,  97.88788789,  97.90790791,\n",
       "        97.92792793,  97.94794795,  97.96796797,  97.98798799,\n",
       "        98.00800801,  98.02802803,  98.04804805,  98.06806807,\n",
       "        98.08808809,  98.10810811,  98.12812813,  98.14814815,\n",
       "        98.16816817,  98.18818819,  98.20820821,  98.22822823,\n",
       "        98.24824825,  98.26826827,  98.28828829,  98.30830831,\n",
       "        98.32832833,  98.34834835,  98.36836837,  98.38838839,\n",
       "        98.40840841,  98.42842843,  98.44844845,  98.46846847,\n",
       "        98.48848849,  98.50850851,  98.52852853,  98.54854855,\n",
       "        98.56856857,  98.58858859,  98.60860861,  98.62862863,\n",
       "        98.64864865,  98.66866867,  98.68868869,  98.70870871,\n",
       "        98.72872873,  98.74874875,  98.76876877,  98.78878879,\n",
       "        98.80880881,  98.82882883,  98.84884885,  98.86886887,\n",
       "        98.88888889,  98.90890891,  98.92892893,  98.94894895,\n",
       "        98.96896897,  98.98898899,  99.00900901,  99.02902903,\n",
       "        99.04904905,  99.06906907,  99.08908909,  99.10910911,\n",
       "        99.12912913,  99.14914915,  99.16916917,  99.18918919,\n",
       "        99.20920921,  99.22922923,  99.24924925,  99.26926927,\n",
       "        99.28928929,  99.30930931,  99.32932933,  99.34934935,\n",
       "        99.36936937,  99.38938939,  99.40940941,  99.42942943,\n",
       "        99.44944945,  99.46946947,  99.48948949,  99.50950951,\n",
       "        99.52952953,  99.54954955,  99.56956957,  99.58958959,\n",
       "        99.60960961,  99.62962963,  99.64964965,  99.66966967,\n",
       "        99.68968969,  99.70970971,  99.72972973,  99.74974975,\n",
       "        99.76976977,  99.78978979,  99.80980981,  99.82982983,\n",
       "        99.84984985,  99.86986987,  99.88988989,  99.90990991,\n",
       "        99.92992993,  99.94994995,  99.96996997,  99.98998999,\n",
       "       100.01001001, 100.03003003, 100.05005005, 100.07007007,\n",
       "       100.09009009, 100.11011011, 100.13013013, 100.15015015,\n",
       "       100.17017017, 100.19019019, 100.21021021, 100.23023023,\n",
       "       100.25025025, 100.27027027, 100.29029029, 100.31031031,\n",
       "       100.33033033, 100.35035035, 100.37037037, 100.39039039,\n",
       "       100.41041041, 100.43043043, 100.45045045, 100.47047047,\n",
       "       100.49049049, 100.51051051, 100.53053053, 100.55055055,\n",
       "       100.57057057, 100.59059059, 100.61061061, 100.63063063,\n",
       "       100.65065065, 100.67067067, 100.69069069, 100.71071071,\n",
       "       100.73073073, 100.75075075, 100.77077077, 100.79079079,\n",
       "       100.81081081, 100.83083083, 100.85085085, 100.87087087,\n",
       "       100.89089089, 100.91091091, 100.93093093, 100.95095095,\n",
       "       100.97097097, 100.99099099, 101.01101101, 101.03103103,\n",
       "       101.05105105, 101.07107107, 101.09109109, 101.11111111,\n",
       "       101.13113113, 101.15115115, 101.17117117, 101.19119119,\n",
       "       101.21121121, 101.23123123, 101.25125125, 101.27127127,\n",
       "       101.29129129, 101.31131131, 101.33133133, 101.35135135,\n",
       "       101.37137137, 101.39139139, 101.41141141, 101.43143143,\n",
       "       101.45145145, 101.47147147, 101.49149149, 101.51151151,\n",
       "       101.53153153, 101.55155155, 101.57157157, 101.59159159,\n",
       "       101.61161161, 101.63163163, 101.65165165, 101.67167167,\n",
       "       101.69169169, 101.71171171, 101.73173173, 101.75175175,\n",
       "       101.77177177, 101.79179179, 101.81181181, 101.83183183,\n",
       "       101.85185185, 101.87187187, 101.89189189, 101.91191191,\n",
       "       101.93193193, 101.95195195, 101.97197197, 101.99199199,\n",
       "       102.01201201, 102.03203203, 102.05205205, 102.07207207,\n",
       "       102.09209209, 102.11211211, 102.13213213, 102.15215215,\n",
       "       102.17217217, 102.19219219, 102.21221221, 102.23223223,\n",
       "       102.25225225, 102.27227227, 102.29229229, 102.31231231,\n",
       "       102.33233233, 102.35235235, 102.37237237, 102.39239239,\n",
       "       102.41241241, 102.43243243, 102.45245245, 102.47247247,\n",
       "       102.49249249, 102.51251251, 102.53253253, 102.55255255,\n",
       "       102.57257257, 102.59259259, 102.61261261, 102.63263263,\n",
       "       102.65265265, 102.67267267, 102.69269269, 102.71271271,\n",
       "       102.73273273, 102.75275275, 102.77277277, 102.79279279,\n",
       "       102.81281281, 102.83283283, 102.85285285, 102.87287287,\n",
       "       102.89289289, 102.91291291, 102.93293293, 102.95295295,\n",
       "       102.97297297, 102.99299299, 103.01301301, 103.03303303,\n",
       "       103.05305305, 103.07307307, 103.09309309, 103.11311311,\n",
       "       103.13313313, 103.15315315, 103.17317317, 103.19319319,\n",
       "       103.21321321, 103.23323323, 103.25325325, 103.27327327,\n",
       "       103.29329329, 103.31331331, 103.33333333, 103.35335335,\n",
       "       103.37337337, 103.39339339, 103.41341341, 103.43343343,\n",
       "       103.45345345, 103.47347347, 103.49349349, 103.51351351,\n",
       "       103.53353353, 103.55355355, 103.57357357, 103.59359359,\n",
       "       103.61361361, 103.63363363, 103.65365365, 103.67367367,\n",
       "       103.69369369, 103.71371371, 103.73373373, 103.75375375,\n",
       "       103.77377377, 103.79379379, 103.81381381, 103.83383383,\n",
       "       103.85385385, 103.87387387, 103.89389389, 103.91391391,\n",
       "       103.93393393, 103.95395395, 103.97397397, 103.99399399,\n",
       "       104.01401401, 104.03403403, 104.05405405, 104.07407407,\n",
       "       104.09409409, 104.11411411, 104.13413413, 104.15415415,\n",
       "       104.17417417, 104.19419419, 104.21421421, 104.23423423,\n",
       "       104.25425425, 104.27427427, 104.29429429, 104.31431431,\n",
       "       104.33433433, 104.35435435, 104.37437437, 104.39439439,\n",
       "       104.41441441, 104.43443443, 104.45445445, 104.47447447,\n",
       "       104.49449449, 104.51451451, 104.53453453, 104.55455455,\n",
       "       104.57457457, 104.59459459, 104.61461461, 104.63463463,\n",
       "       104.65465465, 104.67467467, 104.69469469, 104.71471471,\n",
       "       104.73473473, 104.75475475, 104.77477477, 104.79479479,\n",
       "       104.81481481, 104.83483483, 104.85485485, 104.87487487,\n",
       "       104.89489489, 104.91491491, 104.93493493, 104.95495495,\n",
       "       104.97497497, 104.99499499, 105.01501502, 105.03503504,\n",
       "       105.05505506, 105.07507508, 105.0950951 , 105.11511512,\n",
       "       105.13513514, 105.15515516, 105.17517518, 105.1951952 ,\n",
       "       105.21521522, 105.23523524, 105.25525526, 105.27527528,\n",
       "       105.2952953 , 105.31531532, 105.33533534, 105.35535536,\n",
       "       105.37537538, 105.3953954 , 105.41541542, 105.43543544,\n",
       "       105.45545546, 105.47547548, 105.4954955 , 105.51551552,\n",
       "       105.53553554, 105.55555556, 105.57557558, 105.5955956 ,\n",
       "       105.61561562, 105.63563564, 105.65565566, 105.67567568,\n",
       "       105.6956957 , 105.71571572, 105.73573574, 105.75575576,\n",
       "       105.77577578, 105.7957958 , 105.81581582, 105.83583584,\n",
       "       105.85585586, 105.87587588, 105.8958959 , 105.91591592,\n",
       "       105.93593594, 105.95595596, 105.97597598, 105.995996  ,\n",
       "       106.01601602, 106.03603604, 106.05605606, 106.07607608,\n",
       "       106.0960961 , 106.11611612, 106.13613614, 106.15615616,\n",
       "       106.17617618, 106.1961962 , 106.21621622, 106.23623624,\n",
       "       106.25625626, 106.27627628, 106.2962963 , 106.31631632,\n",
       "       106.33633634, 106.35635636, 106.37637638, 106.3963964 ,\n",
       "       106.41641642, 106.43643644, 106.45645646, 106.47647648,\n",
       "       106.4964965 , 106.51651652, 106.53653654, 106.55655656,\n",
       "       106.57657658, 106.5965966 , 106.61661662, 106.63663664,\n",
       "       106.65665666, 106.67667668, 106.6966967 , 106.71671672,\n",
       "       106.73673674, 106.75675676, 106.77677678, 106.7967968 ,\n",
       "       106.81681682, 106.83683684, 106.85685686, 106.87687688,\n",
       "       106.8968969 , 106.91691692, 106.93693694, 106.95695696,\n",
       "       106.97697698, 106.996997  , 107.01701702, 107.03703704,\n",
       "       107.05705706, 107.07707708, 107.0970971 , 107.11711712,\n",
       "       107.13713714, 107.15715716, 107.17717718, 107.1971972 ,\n",
       "       107.21721722, 107.23723724, 107.25725726, 107.27727728,\n",
       "       107.2972973 , 107.31731732, 107.33733734, 107.35735736,\n",
       "       107.37737738, 107.3973974 , 107.41741742, 107.43743744,\n",
       "       107.45745746, 107.47747748, 107.4974975 , 107.51751752,\n",
       "       107.53753754, 107.55755756, 107.57757758, 107.5975976 ,\n",
       "       107.61761762, 107.63763764, 107.65765766, 107.67767768,\n",
       "       107.6976977 , 107.71771772, 107.73773774, 107.75775776,\n",
       "       107.77777778, 107.7977978 , 107.81781782, 107.83783784,\n",
       "       107.85785786, 107.87787788, 107.8978979 , 107.91791792,\n",
       "       107.93793794, 107.95795796, 107.97797798, 107.997998  ,\n",
       "       108.01801802, 108.03803804, 108.05805806, 108.07807808,\n",
       "       108.0980981 , 108.11811812, 108.13813814, 108.15815816,\n",
       "       108.17817818, 108.1981982 , 108.21821822, 108.23823824,\n",
       "       108.25825826, 108.27827828, 108.2982983 , 108.31831832,\n",
       "       108.33833834, 108.35835836, 108.37837838, 108.3983984 ,\n",
       "       108.41841842, 108.43843844, 108.45845846, 108.47847848,\n",
       "       108.4984985 , 108.51851852, 108.53853854, 108.55855856,\n",
       "       108.57857858, 108.5985986 , 108.61861862, 108.63863864,\n",
       "       108.65865866, 108.67867868, 108.6986987 , 108.71871872,\n",
       "       108.73873874, 108.75875876, 108.77877878, 108.7987988 ,\n",
       "       108.81881882, 108.83883884, 108.85885886, 108.87887888,\n",
       "       108.8988989 , 108.91891892, 108.93893894, 108.95895896,\n",
       "       108.97897898, 108.998999  , 109.01901902, 109.03903904,\n",
       "       109.05905906, 109.07907908, 109.0990991 , 109.11911912,\n",
       "       109.13913914, 109.15915916, 109.17917918, 109.1991992 ,\n",
       "       109.21921922, 109.23923924, 109.25925926, 109.27927928,\n",
       "       109.2992993 , 109.31931932, 109.33933934, 109.35935936,\n",
       "       109.37937938, 109.3993994 , 109.41941942, 109.43943944,\n",
       "       109.45945946, 109.47947948, 109.4994995 , 109.51951952,\n",
       "       109.53953954, 109.55955956, 109.57957958, 109.5995996 ,\n",
       "       109.61961962, 109.63963964, 109.65965966, 109.67967968,\n",
       "       109.6996997 , 109.71971972, 109.73973974, 109.75975976,\n",
       "       109.77977978, 109.7997998 , 109.81981982, 109.83983984,\n",
       "       109.85985986, 109.87987988, 109.8998999 , 109.91991992,\n",
       "       109.93993994, 109.95995996, 109.97997998, 110.        ])"
      ]
     },
     "execution_count": 49,
     "metadata": {},
     "output_type": "execute_result"
    }
   ],
   "source": [
    "x = np.linspace(90, 110, 1000)\n",
    "x"
   ]
  },
  {
   "cell_type": "code",
   "execution_count": 50,
   "metadata": {},
   "outputs": [
    {
     "data": {
      "text/plain": [
       "array([7.43359757e-07, 7.81472588e-07, 8.21457189e-07, 8.63401113e-07,\n",
       "       9.07395784e-07, 9.53536658e-07, 1.00192339e-06, 1.05265999e-06,\n",
       "       1.10585505e-06, 1.16162186e-06, 1.22007866e-06, 1.28134880e-06,\n",
       "       1.34556100e-06, 1.41284948e-06, 1.48335426e-06, 1.55722137e-06,\n",
       "       1.63460307e-06, 1.71565812e-06, 1.80055202e-06, 1.88945729e-06,\n",
       "       1.98255375e-06, 2.08002878e-06, 2.18207765e-06, 2.28890381e-06,\n",
       "       2.40071920e-06, 2.51774460e-06, 2.64020996e-06, 2.76835474e-06,\n",
       "       2.90242829e-06, 3.04269023e-06, 3.18941084e-06, 3.34287144e-06,\n",
       "       3.50336485e-06, 3.67119577e-06, 3.84668128e-06, 4.03015127e-06,\n",
       "       4.22194892e-06, 4.42243120e-06, 4.63196938e-06, 4.85094954e-06,\n",
       "       5.07977315e-06, 5.31885760e-06, 5.56863678e-06, 5.82956171e-06,\n",
       "       6.10210111e-06, 6.38674208e-06, 6.68399076e-06, 6.99437297e-06,\n",
       "       7.31843495e-06, 7.65674406e-06, 8.00988954e-06, 8.37848329e-06,\n",
       "       8.76316061e-06, 9.16458111e-06, 9.58342946e-06, 1.00204163e-05,\n",
       "       1.04762792e-05, 1.09517834e-05, 1.14477230e-05, 1.19649217e-05,\n",
       "       1.25042340e-05, 1.30665462e-05, 1.36527774e-05, 1.42638805e-05,\n",
       "       1.49008437e-05, 1.55646912e-05, 1.62564848e-05, 1.69773249e-05,\n",
       "       1.77283518e-05, 1.85107470e-05, 1.93257347e-05, 2.01745829e-05,\n",
       "       2.10586051e-05, 2.19791614e-05, 2.29376606e-05, 2.39355608e-05,\n",
       "       2.49743720e-05, 2.60556571e-05, 2.71810336e-05, 2.83521754e-05,\n",
       "       2.95708148e-05, 3.08387437e-05, 3.21578162e-05, 3.35299498e-05,\n",
       "       3.49571277e-05, 3.64414008e-05, 3.79848896e-05, 3.95897862e-05,\n",
       "       4.12583570e-05, 4.29929440e-05, 4.47959679e-05, 4.66699298e-05,\n",
       "       4.86174139e-05, 5.06410899e-05, 5.27437152e-05, 5.49281377e-05,\n",
       "       5.71972983e-05, 5.95542336e-05, 6.20020784e-05, 6.45440688e-05,\n",
       "       6.71835447e-05, 6.99239531e-05, 7.27688506e-05, 7.57219066e-05,\n",
       "       7.87869067e-05, 8.19677554e-05, 8.52684796e-05, 8.86932316e-05,\n",
       "       9.22462930e-05, 9.59320775e-05, 9.97551349e-05, 1.03720154e-04,\n",
       "       1.07831968e-04, 1.12095556e-04, 1.16516046e-04, 1.21098724e-04,\n",
       "       1.25849032e-04, 1.30772575e-04, 1.35875124e-04, 1.41162622e-04,\n",
       "       1.46641185e-04, 1.52317111e-04, 1.58196877e-04, 1.64287153e-04,\n",
       "       1.70594798e-04, 1.77126870e-04, 1.83890628e-04, 1.90893538e-04,\n",
       "       1.98143277e-04, 2.05647739e-04, 2.13415040e-04, 2.21453519e-04,\n",
       "       2.29771752e-04, 2.38378547e-04, 2.47282957e-04, 2.56494280e-04,\n",
       "       2.66022069e-04, 2.75876136e-04, 2.86066554e-04, 2.96603669e-04,\n",
       "       3.07498100e-04, 3.18760748e-04, 3.30402802e-04, 3.42435744e-04,\n",
       "       3.54871353e-04, 3.67721715e-04, 3.80999228e-04, 3.94716607e-04,\n",
       "       4.08886889e-04, 4.23523443e-04, 4.38639974e-04, 4.54250531e-04,\n",
       "       4.70369512e-04, 4.87011670e-04, 5.04192122e-04, 5.21926354e-04,\n",
       "       5.40230228e-04, 5.59119989e-04, 5.78612272e-04, 5.98724108e-04,\n",
       "       6.19472932e-04, 6.40876589e-04, 6.62953340e-04, 6.85721872e-04,\n",
       "       7.09201304e-04, 7.33411190e-04, 7.58371532e-04, 7.84102784e-04,\n",
       "       8.10625858e-04, 8.37962134e-04, 8.66133464e-04, 8.95162182e-04,\n",
       "       9.25071109e-04, 9.55883561e-04, 9.87623355e-04, 1.02031482e-03,\n",
       "       1.05398279e-03, 1.08865264e-03, 1.12435025e-03, 1.16110207e-03,\n",
       "       1.19893505e-03, 1.23787674e-03, 1.27795520e-03, 1.31919908e-03,\n",
       "       1.36163759e-03, 1.40530054e-03, 1.45021827e-03, 1.49642177e-03,\n",
       "       1.54394259e-03, 1.59281288e-03, 1.64306541e-03, 1.69473357e-03,\n",
       "       1.74785136e-03, 1.80245339e-03, 1.85857492e-03, 1.91625184e-03,\n",
       "       1.97552069e-03, 2.03641864e-03, 2.09898351e-03, 2.16325380e-03,\n",
       "       2.22926864e-03, 2.29706784e-03, 2.36669187e-03, 2.43818189e-03,\n",
       "       2.51157972e-03, 2.58692785e-03, 2.66426947e-03, 2.74364846e-03,\n",
       "       2.82510937e-03, 2.90869744e-03, 2.99445861e-03, 3.08243953e-03,\n",
       "       3.17268751e-03, 3.26525059e-03, 3.36017749e-03, 3.45751763e-03,\n",
       "       3.55732112e-03, 3.65963880e-03, 3.76452216e-03, 3.87202344e-03,\n",
       "       3.98219552e-03, 4.09509203e-03, 4.21076724e-03, 4.32927615e-03,\n",
       "       4.45067442e-03, 4.57501841e-03, 4.70236515e-03, 4.83277234e-03,\n",
       "       4.96629837e-03, 5.10300229e-03, 5.24294378e-03, 5.38618322e-03,\n",
       "       5.53278161e-03, 5.68280059e-03, 5.83630244e-03, 5.99335007e-03,\n",
       "       6.15400698e-03, 6.31833732e-03, 6.48640579e-03, 6.65827770e-03,\n",
       "       6.83401894e-03, 7.01369596e-03, 7.19737575e-03, 7.38512586e-03,\n",
       "       7.57701434e-03, 7.77310977e-03, 7.97348122e-03, 8.17819825e-03,\n",
       "       8.38733089e-03, 8.60094959e-03, 8.81912528e-03, 9.04192926e-03,\n",
       "       9.26943325e-03, 9.50170935e-03, 9.73883000e-03, 9.98086801e-03,\n",
       "       1.02278965e-02, 1.04799888e-02, 1.07372186e-02, 1.09996599e-02,\n",
       "       1.12673868e-02, 1.15404736e-02, 1.18189948e-02, 1.21030252e-02,\n",
       "       1.23926395e-02, 1.26879127e-02, 1.29889195e-02, 1.32957352e-02,\n",
       "       1.36084346e-02, 1.39270927e-02, 1.42517845e-02, 1.45825848e-02,\n",
       "       1.49195684e-02, 1.52628098e-02, 1.56123833e-02, 1.59683633e-02,\n",
       "       1.63308235e-02, 1.66998378e-02, 1.70754792e-02, 1.74578209e-02,\n",
       "       1.78469353e-02, 1.82428946e-02, 1.86457704e-02, 1.90556339e-02,\n",
       "       1.94725555e-02, 1.98966053e-02, 2.03278526e-02, 2.07663660e-02,\n",
       "       2.12122134e-02, 2.16654621e-02, 2.21261783e-02, 2.25944276e-02,\n",
       "       2.30702746e-02, 2.35537828e-02, 2.40450150e-02, 2.45440327e-02,\n",
       "       2.50508966e-02, 2.55656660e-02, 2.60883992e-02, 2.66191532e-02,\n",
       "       2.71579837e-02, 2.77049451e-02, 2.82600906e-02, 2.88234716e-02,\n",
       "       2.93951384e-02, 2.99751396e-02, 3.05635223e-02, 3.11603320e-02,\n",
       "       3.17656123e-02, 3.23794055e-02, 3.30017519e-02, 3.36326898e-02,\n",
       "       3.42722559e-02, 3.49204849e-02, 3.55774095e-02, 3.62430605e-02,\n",
       "       3.69174664e-02, 3.76006538e-02, 3.82926470e-02, 3.89934681e-02,\n",
       "       3.97031369e-02, 4.04216711e-02, 4.11490857e-02, 4.18853935e-02,\n",
       "       4.26306046e-02, 4.33847270e-02, 4.41477657e-02, 4.49197233e-02,\n",
       "       4.57005998e-02, 4.64903923e-02, 4.72890953e-02, 4.80967004e-02,\n",
       "       4.89131965e-02, 4.97385694e-02, 5.05728022e-02, 5.14158749e-02,\n",
       "       5.22677646e-02, 5.31284451e-02, 5.39978874e-02, 5.48760591e-02,\n",
       "       5.57629248e-02, 5.66584460e-02, 5.75625806e-02, 5.84752835e-02,\n",
       "       5.93965063e-02, 6.03261971e-02, 6.12643006e-02, 6.22107583e-02,\n",
       "       6.31655080e-02, 6.41284843e-02, 6.50996181e-02, 6.60788369e-02,\n",
       "       6.70660646e-02, 6.80612215e-02, 6.90642244e-02, 7.00749865e-02,\n",
       "       7.10934172e-02, 7.21194225e-02, 7.31529045e-02, 7.41937619e-02,\n",
       "       7.52418895e-02, 7.62971785e-02, 7.73595165e-02, 7.84287870e-02,\n",
       "       7.95048704e-02, 8.05876428e-02, 8.16769770e-02, 8.27727419e-02,\n",
       "       8.38748027e-02, 8.49830209e-02, 8.60972543e-02, 8.72173571e-02,\n",
       "       8.83431796e-02, 8.94745687e-02, 9.06113675e-02, 9.17534155e-02,\n",
       "       9.29005484e-02, 9.40525987e-02, 9.52093949e-02, 9.63707622e-02,\n",
       "       9.75365223e-02, 9.87064932e-02, 9.98804895e-02, 1.01058323e-01,\n",
       "       1.02239800e-01, 1.03424727e-01, 1.04612904e-01, 1.05804128e-01,\n",
       "       1.06998196e-01, 1.08194897e-01, 1.09394021e-01, 1.10595353e-01,\n",
       "       1.11798674e-01, 1.13003765e-01, 1.14210401e-01, 1.15418355e-01,\n",
       "       1.16627399e-01, 1.17837300e-01, 1.19047824e-01, 1.20258732e-01,\n",
       "       1.21469786e-01, 1.22680741e-01, 1.23891355e-01, 1.25101379e-01,\n",
       "       1.26310564e-01, 1.27518659e-01, 1.28725410e-01, 1.29930560e-01,\n",
       "       1.31133853e-01, 1.32335030e-01, 1.33533828e-01, 1.34729985e-01,\n",
       "       1.35923237e-01, 1.37113317e-01, 1.38299959e-01, 1.39482894e-01,\n",
       "       1.40661851e-01, 1.41836561e-01, 1.43006752e-01, 1.44172149e-01,\n",
       "       1.45332481e-01, 1.46487473e-01, 1.47636849e-01, 1.48780336e-01,\n",
       "       1.49917656e-01, 1.51048535e-01, 1.52172695e-01, 1.53289862e-01,\n",
       "       1.54399758e-01, 1.55502109e-01, 1.56596638e-01, 1.57683070e-01,\n",
       "       1.58761132e-01, 1.59830548e-01, 1.60891045e-01, 1.61942351e-01,\n",
       "       1.62984195e-01, 1.64016307e-01, 1.65038416e-01, 1.66050256e-01,\n",
       "       1.67051560e-01, 1.68042064e-01, 1.69021503e-01, 1.69989617e-01,\n",
       "       1.70946147e-01, 1.71890835e-01, 1.72823425e-01, 1.73743666e-01,\n",
       "       1.74651305e-01, 1.75546095e-01, 1.76427790e-01, 1.77296148e-01,\n",
       "       1.78150928e-01, 1.78991893e-01, 1.79818809e-01, 1.80631446e-01,\n",
       "       1.81429574e-01, 1.82212970e-01, 1.82981413e-01, 1.83734686e-01,\n",
       "       1.84472575e-01, 1.85194869e-01, 1.85901363e-01, 1.86591855e-01,\n",
       "       1.87266147e-01, 1.87924044e-01, 1.88565358e-01, 1.89189902e-01,\n",
       "       1.89797496e-01, 1.90387963e-01, 1.90961132e-01, 1.91516835e-01,\n",
       "       1.92054911e-01, 1.92575202e-01, 1.93077554e-01, 1.93561821e-01,\n",
       "       1.94027860e-01, 1.94475534e-01, 1.94904710e-01, 1.95315261e-01,\n",
       "       1.95707067e-01, 1.96080010e-01, 1.96433980e-01, 1.96768872e-01,\n",
       "       1.97084585e-01, 1.97381027e-01, 1.97658108e-01, 1.97915746e-01,\n",
       "       1.98153864e-01, 1.98372390e-01, 1.98571260e-01, 1.98750413e-01,\n",
       "       1.98909795e-01, 1.99049360e-01, 1.99169065e-01, 1.99268874e-01,\n",
       "       1.99348757e-01, 1.99408690e-01, 1.99448656e-01, 1.99468642e-01,\n",
       "       1.99468642e-01, 1.99448656e-01, 1.99408690e-01, 1.99348757e-01,\n",
       "       1.99268874e-01, 1.99169065e-01, 1.99049360e-01, 1.98909795e-01,\n",
       "       1.98750413e-01, 1.98571260e-01, 1.98372390e-01, 1.98153864e-01,\n",
       "       1.97915746e-01, 1.97658108e-01, 1.97381027e-01, 1.97084585e-01,\n",
       "       1.96768872e-01, 1.96433980e-01, 1.96080010e-01, 1.95707067e-01,\n",
       "       1.95315261e-01, 1.94904710e-01, 1.94475534e-01, 1.94027860e-01,\n",
       "       1.93561821e-01, 1.93077554e-01, 1.92575202e-01, 1.92054911e-01,\n",
       "       1.91516835e-01, 1.90961132e-01, 1.90387963e-01, 1.89797496e-01,\n",
       "       1.89189902e-01, 1.88565358e-01, 1.87924044e-01, 1.87266147e-01,\n",
       "       1.86591855e-01, 1.85901363e-01, 1.85194869e-01, 1.84472575e-01,\n",
       "       1.83734686e-01, 1.82981413e-01, 1.82212970e-01, 1.81429574e-01,\n",
       "       1.80631446e-01, 1.79818809e-01, 1.78991893e-01, 1.78150928e-01,\n",
       "       1.77296148e-01, 1.76427790e-01, 1.75546095e-01, 1.74651305e-01,\n",
       "       1.73743666e-01, 1.72823425e-01, 1.71890835e-01, 1.70946147e-01,\n",
       "       1.69989617e-01, 1.69021503e-01, 1.68042064e-01, 1.67051560e-01,\n",
       "       1.66050256e-01, 1.65038416e-01, 1.64016307e-01, 1.62984195e-01,\n",
       "       1.61942351e-01, 1.60891045e-01, 1.59830548e-01, 1.58761132e-01,\n",
       "       1.57683070e-01, 1.56596638e-01, 1.55502109e-01, 1.54399758e-01,\n",
       "       1.53289862e-01, 1.52172695e-01, 1.51048535e-01, 1.49917656e-01,\n",
       "       1.48780336e-01, 1.47636849e-01, 1.46487473e-01, 1.45332481e-01,\n",
       "       1.44172149e-01, 1.43006752e-01, 1.41836561e-01, 1.40661851e-01,\n",
       "       1.39482894e-01, 1.38299959e-01, 1.37113317e-01, 1.35923237e-01,\n",
       "       1.34729985e-01, 1.33533828e-01, 1.32335030e-01, 1.31133853e-01,\n",
       "       1.29930560e-01, 1.28725410e-01, 1.27518659e-01, 1.26310564e-01,\n",
       "       1.25101379e-01, 1.23891355e-01, 1.22680741e-01, 1.21469786e-01,\n",
       "       1.20258732e-01, 1.19047824e-01, 1.17837300e-01, 1.16627399e-01,\n",
       "       1.15418355e-01, 1.14210401e-01, 1.13003765e-01, 1.11798674e-01,\n",
       "       1.10595353e-01, 1.09394021e-01, 1.08194897e-01, 1.06998196e-01,\n",
       "       1.05804128e-01, 1.04612904e-01, 1.03424727e-01, 1.02239800e-01,\n",
       "       1.01058323e-01, 9.98804895e-02, 9.87064932e-02, 9.75365223e-02,\n",
       "       9.63707622e-02, 9.52093949e-02, 9.40525987e-02, 9.29005484e-02,\n",
       "       9.17534155e-02, 9.06113675e-02, 8.94745687e-02, 8.83431796e-02,\n",
       "       8.72173571e-02, 8.60972543e-02, 8.49830209e-02, 8.38748027e-02,\n",
       "       8.27727419e-02, 8.16769770e-02, 8.05876428e-02, 7.95048704e-02,\n",
       "       7.84287870e-02, 7.73595165e-02, 7.62971785e-02, 7.52418895e-02,\n",
       "       7.41937619e-02, 7.31529045e-02, 7.21194225e-02, 7.10934172e-02,\n",
       "       7.00749865e-02, 6.90642244e-02, 6.80612215e-02, 6.70660646e-02,\n",
       "       6.60788369e-02, 6.50996181e-02, 6.41284843e-02, 6.31655080e-02,\n",
       "       6.22107583e-02, 6.12643006e-02, 6.03261971e-02, 5.93965063e-02,\n",
       "       5.84752835e-02, 5.75625806e-02, 5.66584460e-02, 5.57629248e-02,\n",
       "       5.48760591e-02, 5.39978874e-02, 5.31284451e-02, 5.22677646e-02,\n",
       "       5.14158749e-02, 5.05728022e-02, 4.97385694e-02, 4.89131965e-02,\n",
       "       4.80967004e-02, 4.72890953e-02, 4.64903923e-02, 4.57005998e-02,\n",
       "       4.49197233e-02, 4.41477657e-02, 4.33847270e-02, 4.26306046e-02,\n",
       "       4.18853935e-02, 4.11490857e-02, 4.04216711e-02, 3.97031369e-02,\n",
       "       3.89934681e-02, 3.82926470e-02, 3.76006538e-02, 3.69174664e-02,\n",
       "       3.62430605e-02, 3.55774095e-02, 3.49204849e-02, 3.42722559e-02,\n",
       "       3.36326898e-02, 3.30017519e-02, 3.23794055e-02, 3.17656123e-02,\n",
       "       3.11603320e-02, 3.05635223e-02, 2.99751396e-02, 2.93951384e-02,\n",
       "       2.88234716e-02, 2.82600906e-02, 2.77049451e-02, 2.71579837e-02,\n",
       "       2.66191532e-02, 2.60883992e-02, 2.55656660e-02, 2.50508966e-02,\n",
       "       2.45440327e-02, 2.40450150e-02, 2.35537828e-02, 2.30702746e-02,\n",
       "       2.25944276e-02, 2.21261783e-02, 2.16654621e-02, 2.12122134e-02,\n",
       "       2.07663660e-02, 2.03278526e-02, 1.98966053e-02, 1.94725555e-02,\n",
       "       1.90556339e-02, 1.86457704e-02, 1.82428946e-02, 1.78469353e-02,\n",
       "       1.74578209e-02, 1.70754792e-02, 1.66998378e-02, 1.63308235e-02,\n",
       "       1.59683633e-02, 1.56123833e-02, 1.52628098e-02, 1.49195684e-02,\n",
       "       1.45825848e-02, 1.42517845e-02, 1.39270927e-02, 1.36084346e-02,\n",
       "       1.32957352e-02, 1.29889195e-02, 1.26879127e-02, 1.23926395e-02,\n",
       "       1.21030252e-02, 1.18189948e-02, 1.15404736e-02, 1.12673868e-02,\n",
       "       1.09996599e-02, 1.07372186e-02, 1.04799888e-02, 1.02278965e-02,\n",
       "       9.98086801e-03, 9.73883000e-03, 9.50170935e-03, 9.26943325e-03,\n",
       "       9.04192926e-03, 8.81912528e-03, 8.60094959e-03, 8.38733089e-03,\n",
       "       8.17819825e-03, 7.97348122e-03, 7.77310977e-03, 7.57701434e-03,\n",
       "       7.38512586e-03, 7.19737575e-03, 7.01369596e-03, 6.83401894e-03,\n",
       "       6.65827770e-03, 6.48640579e-03, 6.31833732e-03, 6.15400698e-03,\n",
       "       5.99335007e-03, 5.83630244e-03, 5.68280059e-03, 5.53278161e-03,\n",
       "       5.38618322e-03, 5.24294378e-03, 5.10300229e-03, 4.96629837e-03,\n",
       "       4.83277234e-03, 4.70236515e-03, 4.57501841e-03, 4.45067442e-03,\n",
       "       4.32927615e-03, 4.21076724e-03, 4.09509203e-03, 3.98219552e-03,\n",
       "       3.87202344e-03, 3.76452216e-03, 3.65963880e-03, 3.55732112e-03,\n",
       "       3.45751763e-03, 3.36017749e-03, 3.26525059e-03, 3.17268751e-03,\n",
       "       3.08243953e-03, 2.99445861e-03, 2.90869744e-03, 2.82510937e-03,\n",
       "       2.74364846e-03, 2.66426947e-03, 2.58692785e-03, 2.51157972e-03,\n",
       "       2.43818189e-03, 2.36669187e-03, 2.29706784e-03, 2.22926864e-03,\n",
       "       2.16325380e-03, 2.09898351e-03, 2.03641864e-03, 1.97552069e-03,\n",
       "       1.91625184e-03, 1.85857492e-03, 1.80245339e-03, 1.74785136e-03,\n",
       "       1.69473357e-03, 1.64306541e-03, 1.59281288e-03, 1.54394259e-03,\n",
       "       1.49642177e-03, 1.45021827e-03, 1.40530054e-03, 1.36163759e-03,\n",
       "       1.31919908e-03, 1.27795520e-03, 1.23787674e-03, 1.19893505e-03,\n",
       "       1.16110207e-03, 1.12435025e-03, 1.08865264e-03, 1.05398279e-03,\n",
       "       1.02031482e-03, 9.87623355e-04, 9.55883561e-04, 9.25071109e-04,\n",
       "       8.95162182e-04, 8.66133464e-04, 8.37962134e-04, 8.10625858e-04,\n",
       "       7.84102784e-04, 7.58371532e-04, 7.33411190e-04, 7.09201304e-04,\n",
       "       6.85721872e-04, 6.62953340e-04, 6.40876589e-04, 6.19472932e-04,\n",
       "       5.98724108e-04, 5.78612272e-04, 5.59119989e-04, 5.40230228e-04,\n",
       "       5.21926354e-04, 5.04192122e-04, 4.87011670e-04, 4.70369512e-04,\n",
       "       4.54250531e-04, 4.38639974e-04, 4.23523443e-04, 4.08886889e-04,\n",
       "       3.94716607e-04, 3.80999228e-04, 3.67721715e-04, 3.54871353e-04,\n",
       "       3.42435744e-04, 3.30402802e-04, 3.18760748e-04, 3.07498100e-04,\n",
       "       2.96603669e-04, 2.86066554e-04, 2.75876136e-04, 2.66022069e-04,\n",
       "       2.56494280e-04, 2.47282957e-04, 2.38378547e-04, 2.29771752e-04,\n",
       "       2.21453519e-04, 2.13415040e-04, 2.05647739e-04, 1.98143277e-04,\n",
       "       1.90893538e-04, 1.83890628e-04, 1.77126870e-04, 1.70594798e-04,\n",
       "       1.64287153e-04, 1.58196877e-04, 1.52317111e-04, 1.46641185e-04,\n",
       "       1.41162622e-04, 1.35875124e-04, 1.30772575e-04, 1.25849032e-04,\n",
       "       1.21098724e-04, 1.16516046e-04, 1.12095556e-04, 1.07831968e-04,\n",
       "       1.03720154e-04, 9.97551349e-05, 9.59320775e-05, 9.22462930e-05,\n",
       "       8.86932316e-05, 8.52684796e-05, 8.19677554e-05, 7.87869067e-05,\n",
       "       7.57219066e-05, 7.27688506e-05, 6.99239531e-05, 6.71835447e-05,\n",
       "       6.45440688e-05, 6.20020784e-05, 5.95542336e-05, 5.71972983e-05,\n",
       "       5.49281377e-05, 5.27437152e-05, 5.06410899e-05, 4.86174139e-05,\n",
       "       4.66699298e-05, 4.47959679e-05, 4.29929440e-05, 4.12583570e-05,\n",
       "       3.95897862e-05, 3.79848896e-05, 3.64414008e-05, 3.49571277e-05,\n",
       "       3.35299498e-05, 3.21578162e-05, 3.08387437e-05, 2.95708148e-05,\n",
       "       2.83521754e-05, 2.71810336e-05, 2.60556571e-05, 2.49743720e-05,\n",
       "       2.39355608e-05, 2.29376606e-05, 2.19791614e-05, 2.10586051e-05,\n",
       "       2.01745829e-05, 1.93257347e-05, 1.85107470e-05, 1.77283518e-05,\n",
       "       1.69773249e-05, 1.62564848e-05, 1.55646912e-05, 1.49008437e-05,\n",
       "       1.42638805e-05, 1.36527774e-05, 1.30665462e-05, 1.25042340e-05,\n",
       "       1.19649217e-05, 1.14477230e-05, 1.09517834e-05, 1.04762792e-05,\n",
       "       1.00204163e-05, 9.58342946e-06, 9.16458111e-06, 8.76316061e-06,\n",
       "       8.37848329e-06, 8.00988954e-06, 7.65674406e-06, 7.31843495e-06,\n",
       "       6.99437297e-06, 6.68399076e-06, 6.38674208e-06, 6.10210111e-06,\n",
       "       5.82956171e-06, 5.56863678e-06, 5.31885760e-06, 5.07977315e-06,\n",
       "       4.85094954e-06, 4.63196938e-06, 4.42243120e-06, 4.22194892e-06,\n",
       "       4.03015127e-06, 3.84668128e-06, 3.67119577e-06, 3.50336485e-06,\n",
       "       3.34287144e-06, 3.18941084e-06, 3.04269023e-06, 2.90242829e-06,\n",
       "       2.76835474e-06, 2.64020996e-06, 2.51774460e-06, 2.40071920e-06,\n",
       "       2.28890381e-06, 2.18207765e-06, 2.08002878e-06, 1.98255375e-06,\n",
       "       1.88945729e-06, 1.80055202e-06, 1.71565812e-06, 1.63460307e-06,\n",
       "       1.55722137e-06, 1.48335426e-06, 1.41284948e-06, 1.34556100e-06,\n",
       "       1.28134880e-06, 1.22007866e-06, 1.16162186e-06, 1.10585505e-06,\n",
       "       1.05265999e-06, 1.00192339e-06, 9.53536658e-07, 9.07395784e-07,\n",
       "       8.63401113e-07, 8.21457189e-07, 7.81472588e-07, 7.43359757e-07])"
      ]
     },
     "execution_count": 50,
     "metadata": {},
     "output_type": "execute_result"
    }
   ],
   "source": [
    "y = stats.norm.pdf(x, loc = mu, scale = sigma)\n",
    "y"
   ]
  },
  {
   "cell_type": "code",
   "execution_count": 51,
   "metadata": {},
   "outputs": [
    {
     "data": {
      "image/png": "[encoded data removed]",
      "text/plain": [
       "<Figure size 1440x576 with 1 Axes>"
      ]
     },
     "metadata": {
      "needs_background": "light"
     },
     "output_type": "display_data"
    }
   ],
   "source": [
    "plt.figure(figsize = (20, 8))\n",
    "plt.hist(pop, bins = 1000, density = True)\n",
    "plt.plot(x, y, linewidth = 3, color = \"red\")\n",
    "plt.grid()\n",
    "plt.title(\"Normal Distribution\", fontsize = 20)\n",
    "plt.xlabel(\"Screw Length\", fontsize = 15)\n",
    "plt.ylabel(\"pdf\", fontsize = 15)\n",
    "plt.show()"
   ]
  },
  {
   "cell_type": "code",
   "execution_count": 52,
   "metadata": {},
   "outputs": [
    {
     "data": {
      "text/plain": [
       "array([ 97.82873879, 101.99469089, 100.565957  , ...,  98.3046391 ,\n",
       "        98.52361877,  97.41445466])"
      ]
     },
     "execution_count": 52,
     "metadata": {},
     "output_type": "execute_result"
    }
   ],
   "source": [
    "pop"
   ]
  },
  {
   "cell_type": "code",
   "execution_count": null,
   "metadata": {},
   "outputs": [],
   "source": []
  },
  {
   "cell_type": "markdown",
   "metadata": {},
   "source": [
    "### Normal Distribution - Cumulative Distribution Function (cdf) with scipy.stats"
   ]
  },
  {
   "cell_type": "code",
   "execution_count": 53,
   "metadata": {},
   "outputs": [],
   "source": [
    "import numpy as np\n",
    "import scipy.stats as stats\n",
    "import matplotlib.pyplot as plt"
   ]
  },
  {
   "cell_type": "code",
   "execution_count": 54,
   "metadata": {},
   "outputs": [],
   "source": [
    "mu = 100\n",
    "sigma = 2"
   ]
  },
  {
   "cell_type": "code",
   "execution_count": 55,
   "metadata": {},
   "outputs": [],
   "source": [
    "x = np.linspace(90, 110, 1000)"
   ]
  },
  {
   "cell_type": "code",
   "execution_count": 56,
   "metadata": {},
   "outputs": [],
   "source": [
    "y = stats.norm.cdf(x, loc = mu, scale = sigma)"
   ]
  },
  {
   "cell_type": "code",
   "execution_count": 57,
   "metadata": {},
   "outputs": [
    {
     "data": {
      "image/png": "[encoded data removed]",
      "text/plain": [
       "<Figure size 1440x576 with 1 Axes>"
      ]
     },
     "metadata": {
      "needs_background": "light"
     },
     "output_type": "display_data"
    }
   ],
   "source": [
    "plt.figure(figsize = (20, 8))\n",
    "plt.hist(pop, bins = 1000, density= True, cumulative= True)\n",
    "plt.plot(x, y, color = \"red\", linewidth = 3)\n",
    "plt.grid()\n",
    "plt.title(\"Normal Distribution\", fontsize = 20)\n",
    "plt.xlabel(\"Screw Length\", fontsize = 15)\n",
    "plt.ylabel(\"cdf\", fontsize = 15)\n",
    "plt.yticks(np.arange(0, 1.1, 0.1))\n",
    "plt.show()"
   ]
  },
  {
   "cell_type": "code",
   "execution_count": 58,
   "metadata": {},
   "outputs": [
    {
     "data": {
      "text/plain": [
       "array([ 97.82873879, 101.99469089, 100.565957  , ...,  98.3046391 ,\n",
       "        98.52361877,  97.41445466])"
      ]
     },
     "execution_count": 58,
     "metadata": {},
     "output_type": "execute_result"
    }
   ],
   "source": [
    "pop"
   ]
  },
  {
   "cell_type": "code",
   "execution_count": null,
   "metadata": {},
   "outputs": [],
   "source": []
  },
  {
   "cell_type": "markdown",
   "metadata": {},
   "source": [
    "### The Standard Normal Distribution and Z-Scores"
   ]
  },
  {
   "cell_type": "code",
   "execution_count": 59,
   "metadata": {},
   "outputs": [],
   "source": [
    "import numpy as np\n",
    "import scipy.stats as stats\n",
    "import matplotlib.pyplot as plt"
   ]
  },
  {
   "cell_type": "code",
   "execution_count": 60,
   "metadata": {},
   "outputs": [
    {
     "data": {
      "text/plain": [
       "array([ 97.82873879, 101.99469089, 100.565957  , ...,  98.3046391 ,\n",
       "        98.52361877,  97.41445466])"
      ]
     },
     "execution_count": 60,
     "metadata": {},
     "output_type": "execute_result"
    }
   ],
   "source": [
    "pop"
   ]
  },
  {
   "cell_type": "code",
   "execution_count": 61,
   "metadata": {},
   "outputs": [],
   "source": [
    "mu = pop.mean()\n",
    "sigma = pop.std()"
   ]
  },
  {
   "cell_type": "code",
   "execution_count": 62,
   "metadata": {},
   "outputs": [
    {
     "data": {
      "text/plain": [
       "100.00125900261469"
      ]
     },
     "execution_count": 62,
     "metadata": {},
     "output_type": "execute_result"
    }
   ],
   "source": [
    "mu"
   ]
  },
  {
   "cell_type": "code",
   "execution_count": 63,
   "metadata": {},
   "outputs": [
    {
     "data": {
      "text/plain": [
       "2.0005171072042"
      ]
     },
     "execution_count": 63,
     "metadata": {},
     "output_type": "execute_result"
    }
   ],
   "source": [
    "sigma"
   ]
  },
  {
   "cell_type": "code",
   "execution_count": 64,
   "metadata": {},
   "outputs": [
    {
     "data": {
      "text/plain": [
       "97.82873879339888"
      ]
     },
     "execution_count": 64,
     "metadata": {},
     "output_type": "execute_result"
    }
   ],
   "source": [
    "pop[0]"
   ]
  },
  {
   "cell_type": "code",
   "execution_count": 65,
   "metadata": {},
   "outputs": [
    {
     "data": {
      "text/plain": [
       "-1.085979320742718"
      ]
     },
     "execution_count": 65,
     "metadata": {},
     "output_type": "execute_result"
    }
   ],
   "source": [
    "(pop[0] - mu) / sigma"
   ]
  },
  {
   "cell_type": "code",
   "execution_count": 66,
   "metadata": {},
   "outputs": [
    {
     "data": {
      "text/plain": [
       "101.99469089316717"
      ]
     },
     "execution_count": 66,
     "metadata": {},
     "output_type": "execute_result"
    }
   ],
   "source": [
    "pop[1]"
   ]
  },
  {
   "cell_type": "code",
   "execution_count": 67,
   "metadata": {},
   "outputs": [
    {
     "data": {
      "text/plain": [
       "0.9964583073915245"
      ]
     },
     "execution_count": 67,
     "metadata": {},
     "output_type": "execute_result"
    }
   ],
   "source": [
    "(pop[1] - mu) / sigma"
   ]
  },
  {
   "cell_type": "code",
   "execution_count": 68,
   "metadata": {},
   "outputs": [
    {
     "data": {
      "text/plain": [
       "array([-1.08597932,  0.99645831,  0.28227601, ..., -0.84809067,\n",
       "       -0.73862914, -1.29306785])"
      ]
     },
     "execution_count": 68,
     "metadata": {},
     "output_type": "execute_result"
    }
   ],
   "source": [
    "(pop - mu) / sigma"
   ]
  },
  {
   "cell_type": "code",
   "execution_count": 69,
   "metadata": {},
   "outputs": [
    {
     "data": {
      "text/plain": [
       "array([-1.08597932,  0.99645831,  0.28227601, ..., -0.84809067,\n",
       "       -0.73862914, -1.29306785])"
      ]
     },
     "execution_count": 69,
     "metadata": {},
     "output_type": "execute_result"
    }
   ],
   "source": [
    "z = stats.zscore(pop)\n",
    "z"
   ]
  },
  {
   "cell_type": "code",
   "execution_count": 70,
   "metadata": {},
   "outputs": [
    {
     "data": {
      "text/plain": [
       "0.0"
      ]
     },
     "execution_count": 70,
     "metadata": {},
     "output_type": "execute_result"
    }
   ],
   "source": [
    "round(z.mean(), 4)"
   ]
  },
  {
   "cell_type": "code",
   "execution_count": 71,
   "metadata": {},
   "outputs": [
    {
     "data": {
      "text/plain": [
       "0.9999999999999999"
      ]
     },
     "execution_count": 71,
     "metadata": {},
     "output_type": "execute_result"
    }
   ],
   "source": [
    "z.std()"
   ]
  },
  {
   "cell_type": "code",
   "execution_count": 72,
   "metadata": {},
   "outputs": [
    {
     "data": {
      "text/plain": [
       "0.00022861550244412926"
      ]
     },
     "execution_count": 72,
     "metadata": {},
     "output_type": "execute_result"
    }
   ],
   "source": [
    "stats.skew(z)"
   ]
  },
  {
   "cell_type": "code",
   "execution_count": 73,
   "metadata": {},
   "outputs": [
    {
     "data": {
      "text/plain": [
       "-0.005837588254299586"
      ]
     },
     "execution_count": 73,
     "metadata": {},
     "output_type": "execute_result"
    }
   ],
   "source": [
    "stats.kurtosis(z)"
   ]
  },
  {
   "cell_type": "code",
   "execution_count": 74,
   "metadata": {},
   "outputs": [],
   "source": [
    "x = np.linspace(-4, 4, 1000)"
   ]
  },
  {
   "cell_type": "code",
   "execution_count": 75,
   "metadata": {},
   "outputs": [],
   "source": [
    "y = stats.norm.pdf(x, loc = 0, scale = 1)"
   ]
  },
  {
   "cell_type": "code",
   "execution_count": 76,
   "metadata": {},
   "outputs": [
    {
     "data": {
      "image/png": "[encoded data removed]",
      "text/plain": [
       "<Figure size 1440x576 with 1 Axes>"
      ]
     },
     "metadata": {
      "needs_background": "light"
     },
     "output_type": "display_data"
    }
   ],
   "source": [
    "plt.figure(figsize = (20, 8))\n",
    "plt.hist(z, bins = 1000, density= True)\n",
    "plt.grid()\n",
    "plt.plot(x, y, linewidth = 3, color = \"red\")\n",
    "plt.xticks(np.arange(-4, 5, 1),\n",
    "           labels = [\"-4σ = -4\", \"-3σ = -3\", \"-2σ = -2\", \"-1σ = -1\", \"mu = 0\", \"1σ = 1\", \"2σ = 2\", \"3σ = 3\", \"4σ = 4\"],\n",
    "           fontsize = 15)\n",
    "plt.title(\"Standard Normal Distribution\", fontsize = 20)\n",
    "plt.ylabel(\"pdf\", fontsize = 15)\n",
    "plt.show()"
   ]
  },
  {
   "cell_type": "code",
   "execution_count": 77,
   "metadata": {},
   "outputs": [],
   "source": [
    "y = stats.norm.cdf(x)"
   ]
  },
  {
   "cell_type": "code",
   "execution_count": 78,
   "metadata": {},
   "outputs": [
    {
     "data": {
      "image/png": "[encoded data removed]",
      "text/plain": [
       "<Figure size 1440x576 with 1 Axes>"
      ]
     },
     "metadata": {
      "needs_background": "light"
     },
     "output_type": "display_data"
    }
   ],
   "source": [
    "plt.figure(figsize = (20, 8))\n",
    "plt.hist(z, bins = 1000, density= True, cumulative= True)\n",
    "plt.plot(x, y, color = \"red\", linewidth = 3)\n",
    "plt.grid() \n",
    "plt.xticks(np.arange(-4, 5, 1),\n",
    "           labels = [\"-4σ = -4\", \"-3σ = -3\", \"-2σ = -2\", \"-1σ = -1\", \"mu = 0\", \"1σ = 1\", \"2σ = 2\", \"3σ = 3\", \"4σ = 4\"],\n",
    "           fontsize = 15)\n",
    "plt.yticks(np.arange(0, 1.1, 0.1))\n",
    "plt.title(\"Standard Normal Distribution\", fontsize = 20)\n",
    "plt.ylabel(\"cdf\", fontsize = 15)\n",
    "plt.show()"
   ]
  },
  {
   "cell_type": "code",
   "execution_count": null,
   "metadata": {},
   "outputs": [],
   "source": []
  },
  {
   "cell_type": "markdown",
   "metadata": {},
   "source": [
    "### Probabilities and Z-Scores with scipy.stats"
   ]
  },
  {
   "cell_type": "code",
   "execution_count": 79,
   "metadata": {},
   "outputs": [],
   "source": [
    "import numpy as np\n",
    "import scipy.stats as stats\n",
    "\n",
    "# Once we know the z-score for an observation drawn from a\n",
    "# normally distributed random variable, we can determine probabilities"
   ]
  },
  {
   "cell_type": "code",
   "execution_count": 80,
   "metadata": {
    "scrolled": true
   },
   "outputs": [
    {
     "data": {
      "text/plain": [
       "0.15865525393145707"
      ]
     },
     "execution_count": 80,
     "metadata": {},
     "output_type": "execute_result"
    }
   ],
   "source": [
    "# Probability of getting values equal or below 1 standard deviation from the mean\n",
    "stats.norm.cdf(-1, loc = 0, scale = 1)"
   ]
  },
  {
   "cell_type": "code",
   "execution_count": 81,
   "metadata": {},
   "outputs": [
    {
     "data": {
      "text/plain": [
       "0.8413447460685429"
      ]
     },
     "execution_count": 81,
     "metadata": {},
     "output_type": "execute_result"
    }
   ],
   "source": [
    "# Probability of getting values equal or above 1 standard deviation from the mean\n",
    "1 - stats.norm.cdf(-1)"
   ]
  },
  {
   "cell_type": "code",
   "execution_count": 82,
   "metadata": {},
   "outputs": [
    {
     "data": {
      "text/plain": [
       "0.8413447460685429"
      ]
     },
     "execution_count": 82,
     "metadata": {},
     "output_type": "execute_result"
    }
   ],
   "source": [
    "stats.norm.cdf(1)"
   ]
  },
  {
   "cell_type": "code",
   "execution_count": 83,
   "metadata": {},
   "outputs": [
    {
     "data": {
      "text/plain": [
       "0.15865525393145707"
      ]
     },
     "execution_count": 83,
     "metadata": {},
     "output_type": "execute_result"
    }
   ],
   "source": [
    "1 - stats.norm.cdf(1)"
   ]
  },
  {
   "cell_type": "code",
   "execution_count": 84,
   "metadata": {},
   "outputs": [
    {
     "data": {
      "text/plain": [
       "0.6826894921370859"
      ]
     },
     "execution_count": 84,
     "metadata": {},
     "output_type": "execute_result"
    }
   ],
   "source": [
    "# The 68% area, between the (-1) std and (1) std\n",
    "stats.norm.cdf(1) - stats.norm.cdf(-1)"
   ]
  },
  {
   "cell_type": "code",
   "execution_count": 85,
   "metadata": {},
   "outputs": [
    {
     "data": {
      "text/plain": [
       "0.022750131948179195"
      ]
     },
     "execution_count": 85,
     "metadata": {},
     "output_type": "execute_result"
    }
   ],
   "source": [
    "# Probability of getting values equal or below 2 standard deviation from the mean\n",
    "stats.norm.cdf(-2)"
   ]
  },
  {
   "cell_type": "code",
   "execution_count": 86,
   "metadata": {},
   "outputs": [
    {
     "data": {
      "text/plain": [
       "0.02275013194817921"
      ]
     },
     "execution_count": 86,
     "metadata": {},
     "output_type": "execute_result"
    }
   ],
   "source": [
    "1 - stats.norm.cdf(2)"
   ]
  },
  {
   "cell_type": "code",
   "execution_count": 87,
   "metadata": {},
   "outputs": [
    {
     "data": {
      "text/plain": [
       "0.9544997361036416"
      ]
     },
     "execution_count": 87,
     "metadata": {},
     "output_type": "execute_result"
    }
   ],
   "source": [
    "# The 95% area, between the (-2) std and (2) std\n",
    "stats.norm.cdf(2) - stats.norm.cdf(-2)"
   ]
  },
  {
   "cell_type": "code",
   "execution_count": 88,
   "metadata": {},
   "outputs": [
    {
     "data": {
      "text/plain": [
       "0.5"
      ]
     },
     "execution_count": 88,
     "metadata": {},
     "output_type": "execute_result"
    }
   ],
   "source": [
    "# Center\n",
    "stats.norm.cdf(0)"
   ]
  },
  {
   "cell_type": "code",
   "execution_count": 89,
   "metadata": {},
   "outputs": [
    {
     "data": {
      "text/plain": [
       "array([ 97.82873879, 101.99469089, 100.565957  , ...,  98.3046391 ,\n",
       "        98.52361877,  97.41445466])"
      ]
     },
     "execution_count": 89,
     "metadata": {},
     "output_type": "execute_result"
    }
   ],
   "source": [
    "pop"
   ]
  },
  {
   "cell_type": "code",
   "execution_count": 90,
   "metadata": {},
   "outputs": [
    {
     "data": {
      "text/plain": [
       "96.00022478820628"
      ]
     },
     "execution_count": 90,
     "metadata": {},
     "output_type": "execute_result"
    }
   ],
   "source": [
    "# The 95% area, between the (-2) std and (2) std\n",
    "minus_two_sigma = pop.mean() - 2 * pop.std()\n",
    "minus_two_sigma"
   ]
  },
  {
   "cell_type": "code",
   "execution_count": 91,
   "metadata": {},
   "outputs": [
    {
     "data": {
      "text/plain": [
       "0.022783"
      ]
     },
     "execution_count": 91,
     "metadata": {},
     "output_type": "execute_result"
    }
   ],
   "source": [
    "# Probability of getting values equal or below 2 standard deviation from the mean\n",
    "(pop < minus_two_sigma).mean()"
   ]
  },
  {
   "cell_type": "code",
   "execution_count": 92,
   "metadata": {},
   "outputs": [
    {
     "data": {
      "text/plain": [
       "0.006232059327051176"
      ]
     },
     "execution_count": 92,
     "metadata": {},
     "output_type": "execute_result"
    }
   ],
   "source": [
    "1 -stats.norm.cdf(x = 105, loc = pop.mean(), scale = pop.std())"
   ]
  },
  {
   "cell_type": "code",
   "execution_count": 93,
   "metadata": {},
   "outputs": [
    {
     "data": {
      "text/plain": [
       "2.4987244444868786"
      ]
     },
     "execution_count": 93,
     "metadata": {},
     "output_type": "execute_result"
    }
   ],
   "source": [
    "z = (105-pop.mean()) / pop.std()\n",
    "z"
   ]
  },
  {
   "cell_type": "code",
   "execution_count": 94,
   "metadata": {},
   "outputs": [
    {
     "data": {
      "text/plain": [
       "0.9937679406729488"
      ]
     },
     "execution_count": 94,
     "metadata": {},
     "output_type": "execute_result"
    }
   ],
   "source": [
    "stats.norm.cdf(z)"
   ]
  },
  {
   "cell_type": "code",
   "execution_count": 95,
   "metadata": {},
   "outputs": [
    {
     "data": {
      "text/plain": [
       "0.0"
      ]
     },
     "execution_count": 95,
     "metadata": {},
     "output_type": "execute_result"
    }
   ],
   "source": [
    "stats.norm.ppf(0.5, loc = 0, scale = 1)"
   ]
  },
  {
   "cell_type": "code",
   "execution_count": 96,
   "metadata": {},
   "outputs": [
    {
     "data": {
      "text/plain": [
       "-1.6448536269514729"
      ]
     },
     "execution_count": 96,
     "metadata": {},
     "output_type": "execute_result"
    }
   ],
   "source": [
    "stats.norm.ppf(0.05) # Left confidence interval"
   ]
  },
  {
   "cell_type": "code",
   "execution_count": 97,
   "metadata": {},
   "outputs": [
    {
     "data": {
      "text/plain": [
       "1.6448536269514722"
      ]
     },
     "execution_count": 97,
     "metadata": {},
     "output_type": "execute_result"
    }
   ],
   "source": [
    "stats.norm.ppf(0.95) # Right confidence interval"
   ]
  },
  {
   "cell_type": "code",
   "execution_count": 98,
   "metadata": {},
   "outputs": [
    {
     "data": {
      "text/plain": [
       "96.71070118305138"
      ]
     },
     "execution_count": 98,
     "metadata": {},
     "output_type": "execute_result"
    }
   ],
   "source": [
    "stats.norm.ppf(loc = pop.mean(), scale = pop.std(), q = 0.05)\n",
    "# 5% of all observations have a value of equal to or less than 96.7"
   ]
  },
  {
   "cell_type": "code",
   "execution_count": 99,
   "metadata": {},
   "outputs": [
    {
     "data": {
      "text/plain": [
       "103.29181682217798"
      ]
     },
     "execution_count": 99,
     "metadata": {},
     "output_type": "execute_result"
    }
   ],
   "source": [
    "stats.norm.ppf(loc = pop.mean(), scale = pop.std(), q = 0.95)\n",
    "# 95% of all observations have a value of equal to or less than 103.3"
   ]
  },
  {
   "cell_type": "code",
   "execution_count": null,
   "metadata": {},
   "outputs": [],
   "source": []
  },
  {
   "cell_type": "markdown",
   "metadata": {},
   "source": [
    "### Confidence Intervals"
   ]
  },
  {
   "cell_type": "code",
   "execution_count": 100,
   "metadata": {},
   "outputs": [],
   "source": [
    "import numpy as np\n",
    "import scipy.stats as stats\n",
    "import matplotlib.pyplot as plt"
   ]
  },
  {
   "cell_type": "markdown",
   "metadata": {},
   "source": [
    "The ABC Company produces screws. The length of the screws follows a __Normal Distribution__ with __mean 100__ (millimeters) and __standard deviation 2__ (millimeters). Determine the __Confidence Interval__ around the mean where __90%__ of all observations can be found.\n"
   ]
  },
  {
   "cell_type": "code",
   "execution_count": 101,
   "metadata": {},
   "outputs": [],
   "source": [
    "conf = 0.90"
   ]
  },
  {
   "cell_type": "code",
   "execution_count": 102,
   "metadata": {},
   "outputs": [
    {
     "data": {
      "text/plain": [
       "0.04999999999999999"
      ]
     },
     "execution_count": 102,
     "metadata": {},
     "output_type": "execute_result"
    }
   ],
   "source": [
    "tails = (1-conf) / 2\n",
    "tails"
   ]
  },
  {
   "cell_type": "code",
   "execution_count": 103,
   "metadata": {},
   "outputs": [
    {
     "data": {
      "text/plain": [
       "-1.6448536269514729"
      ]
     },
     "execution_count": 103,
     "metadata": {},
     "output_type": "execute_result"
    }
   ],
   "source": [
    "left = stats.norm.ppf(tails)\n",
    "left"
   ]
  },
  {
   "cell_type": "code",
   "execution_count": 104,
   "metadata": {},
   "outputs": [
    {
     "data": {
      "text/plain": [
       "1.6448536269514722"
      ]
     },
     "execution_count": 104,
     "metadata": {},
     "output_type": "execute_result"
    }
   ],
   "source": [
    "right = stats.norm.ppf(1-tails)\n",
    "right"
   ]
  },
  {
   "cell_type": "code",
   "execution_count": 105,
   "metadata": {},
   "outputs": [
    {
     "data": {
      "text/plain": [
       "(-1.6448536269514729, 1.6448536269514722)"
      ]
     },
     "execution_count": 105,
     "metadata": {},
     "output_type": "execute_result"
    }
   ],
   "source": [
    "stats.norm.interval(conf)"
   ]
  },
  {
   "cell_type": "code",
   "execution_count": 106,
   "metadata": {},
   "outputs": [],
   "source": [
    "left, right = stats.norm.interval(conf)"
   ]
  },
  {
   "cell_type": "code",
   "execution_count": 107,
   "metadata": {},
   "outputs": [
    {
     "data": {
      "text/plain": [
       "-1.6448536269514729"
      ]
     },
     "execution_count": 107,
     "metadata": {},
     "output_type": "execute_result"
    }
   ],
   "source": [
    "left"
   ]
  },
  {
   "cell_type": "code",
   "execution_count": 108,
   "metadata": {},
   "outputs": [
    {
     "data": {
      "text/plain": [
       "1.6448536269514722"
      ]
     },
     "execution_count": 108,
     "metadata": {},
     "output_type": "execute_result"
    }
   ],
   "source": [
    "right"
   ]
  },
  {
   "cell_type": "code",
   "execution_count": 109,
   "metadata": {},
   "outputs": [],
   "source": [
    "x = np.linspace(-5, 5, 1000)"
   ]
  },
  {
   "cell_type": "code",
   "execution_count": 110,
   "metadata": {},
   "outputs": [],
   "source": [
    "y = stats.norm.pdf(x)"
   ]
  },
  {
   "cell_type": "code",
   "execution_count": 111,
   "metadata": {},
   "outputs": [
    {
     "data": {
      "image/png": "[encoded data removed]",
      "text/plain": [
       "<Figure size 1440x576 with 1 Axes>"
      ]
     },
     "metadata": {
      "needs_background": "light"
     },
     "output_type": "display_data"
    }
   ],
   "source": [
    "plt.figure(figsize = (20, 8))\n",
    "plt.plot(x, y, color = \"black\", linewidth = 2)\n",
    "plt.fill_between(x, y, where = ((x > right) | (x < left)), color = \"blue\", alpha = 0.2)\n",
    "plt.fill_between(x, y, where = ((x < right) & (x > left)), color = \"red\", alpha = 0.2)\n",
    "plt.grid()\n",
    "plt.annotate(\"5%\", xy = (1.75, 0.01), fontsize = 20)\n",
    "plt.annotate(\"5%\", xy = (-2.25, 0.01), fontsize = 20)\n",
    "plt.annotate(\"90%\", xy = (-0.6, 0.2), fontsize = 40)\n",
    "plt.annotate(\"-1.645σ\", xy = (-1.645, -0.015), fontsize = 10)\n",
    "plt.annotate(\"1.645σ\", xy = (1.645, -0.015), fontsize = 10)\n",
    "plt.xticks(np.arange(-4, 5, 1), \n",
    "           labels = [\"-4σ = -4\", \"-3σ = -3\", \"-2σ = -2\", \"-1σ = -1\", \"mu = 0\", \"1σ = 1\", \"2σ = 2\", \"3σ = 3\", \"4σ = 4\"],\n",
    "           fontsize = 10)\n",
    "plt.title(\"Standard Normal Distribution\", fontsize = 20)\n",
    "plt.ylabel(\"pdf\", fontsize = 15)\n",
    "plt.show()"
   ]
  },
  {
   "cell_type": "code",
   "execution_count": 112,
   "metadata": {},
   "outputs": [],
   "source": [
    "x = np.linspace(-5, 5, 1000)"
   ]
  },
  {
   "cell_type": "code",
   "execution_count": 113,
   "metadata": {},
   "outputs": [],
   "source": [
    "y = stats.norm.cdf(x)"
   ]
  },
  {
   "cell_type": "code",
   "execution_count": 114,
   "metadata": {},
   "outputs": [
    {
     "data": {
      "image/png": "[encoded data removed]",
      "text/plain": [
       "<Figure size 864x576 with 1 Axes>"
      ]
     },
     "metadata": {
      "needs_background": "light"
     },
     "output_type": "display_data"
    }
   ],
   "source": [
    "plt.figure(figsize = (12, 8))\n",
    "plt.margins(x = 0, y = 0)\n",
    "plt.plot(x, y, color = \"black\", linewidth = 2)\n",
    "plt.vlines(x = [left, right], ymin = 0, ymax = [stats.norm.cdf(left), stats.norm.cdf(right)], linestyle = \"--\")\n",
    "plt.hlines(y = [stats.norm.cdf(left), stats.norm.cdf(right)], xmin = -5, xmax = [left, right], linestyle = \"--\")\n",
    "plt.grid()\n",
    "plt.xticks(np.arange(-4, 5, 1), \n",
    "           labels = [\"-4σ = -4\", \"-3σ = -3\", \"-2σ = -2\", \"-1σ = -1\", \"mu = 0\", \"1σ = 1\", \"2σ = 2\", \"3σ = 3\", \"4σ = 4\"],\n",
    "           fontsize = 15)\n",
    "plt.yticks(np.arange(0, 1.1, 0.05), fontsize = 10)\n",
    "plt.annotate(\"-1.645σ\", xy = (-1.60, 0.015), fontsize = 10)\n",
    "plt.annotate(\"1.645σ\", xy = (1.7, 0.015), fontsize = 10)\n",
    "plt.title(\"Standard Normal Distribution\", fontsize = 20)\n",
    "plt.ylabel(\"cdf\", fontsize = 15)\n",
    "plt.show()"
   ]
  },
  {
   "cell_type": "code",
   "execution_count": 115,
   "metadata": {},
   "outputs": [
    {
     "data": {
      "text/plain": [
       "(96.71029274609705, 103.28970725390295)"
      ]
     },
     "execution_count": 115,
     "metadata": {},
     "output_type": "execute_result"
    }
   ],
   "source": [
    "stats.norm.interval(conf, loc = 100, scale = 2)"
   ]
  },
  {
   "cell_type": "code",
   "execution_count": 116,
   "metadata": {},
   "outputs": [
    {
     "data": {
      "text/plain": [
       "array([ 97.82873879, 101.99469089, 100.565957  , ...,  98.3046391 ,\n",
       "        98.52361877,  97.41445466])"
      ]
     },
     "execution_count": 116,
     "metadata": {},
     "output_type": "execute_result"
    }
   ],
   "source": [
    "pop"
   ]
  },
  {
   "cell_type": "code",
   "execution_count": 117,
   "metadata": {},
   "outputs": [],
   "source": [
    "left, right = np.percentile(pop, [5, 95])"
   ]
  },
  {
   "cell_type": "code",
   "execution_count": 118,
   "metadata": {},
   "outputs": [
    {
     "data": {
      "text/plain": [
       "96.70911446261361"
      ]
     },
     "execution_count": 118,
     "metadata": {},
     "output_type": "execute_result"
    }
   ],
   "source": [
    "left "
   ]
  },
  {
   "cell_type": "code",
   "execution_count": 119,
   "metadata": {},
   "outputs": [
    {
     "data": {
      "text/plain": [
       "103.29134575911688"
      ]
     },
     "execution_count": 119,
     "metadata": {},
     "output_type": "execute_result"
    }
   ],
   "source": [
    "right"
   ]
  }
 ],
 "metadata": {
  "kernelspec": {
   "display_name": "Python 3",
   "language": "python",
   "name": "python3"
  },
  "language_info": {
   "codemirror_mode": {
    "name": "ipython",
    "version": 3
   },
   "file_extension": ".py",
   "mimetype": "text/x-python",
   "name": "python",
   "nbconvert_exporter": "python",
   "pygments_lexer": "ipython3",
   "version": "3.8.3"
  }
 },
 "nbformat": 4,
 "nbformat_minor": 2
}
